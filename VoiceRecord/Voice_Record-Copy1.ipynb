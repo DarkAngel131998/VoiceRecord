{
 "cells": [
  {
   "cell_type": "code",
   "execution_count": 1,
   "metadata": {},
   "outputs": [
    {
     "data": {
      "text/plain": [
       "  0 Microsoft Sound Mapper - Input, MME (2 in, 0 out)\n",
       "> 1 Microphone (2- Realtek High Def, MME (2 in, 0 out)\n",
       "  2 Microsoft Sound Mapper - Output, MME (0 in, 2 out)\n",
       "< 3 Speakers (2- Realtek High Defin, MME (0 in, 2 out)"
      ]
     },
     "execution_count": 1,
     "metadata": {},
     "output_type": "execute_result"
    }
   ],
   "source": [
    "import soundfile as sf\n",
    "import sounddevice as sd\n",
    "import queue\n",
    "import keyboard\n",
    "import numpy\n",
    "import time\n",
    "import os\n",
    "\n",
    "misc = sd.query_devices()\n",
    "misc"
   ]
  },
  {
   "cell_type": "code",
   "execution_count": 2,
   "metadata": {},
   "outputs": [
    {
     "name": "stdout",
     "output_type": "stream",
     "text": [
      "{'name': 'Microphone (2- Realtek High Def', 'hostapi': 0, 'max_input_channels': 2, 'max_output_channels': 0, 'default_low_input_latency': 0.09, 'default_low_output_latency': 0.09, 'default_high_input_latency': 0.18, 'default_high_output_latency': 0.18, 'default_samplerate': 44100.0}\n"
     ]
    }
   ],
   "source": [
    "sd.default.device = 1\n",
    "print(misc[1])"
   ]
  },
  {
   "cell_type": "code",
   "execution_count": 3,
   "metadata": {},
   "outputs": [],
   "source": [
    "def sync_record(filename, duration, sr, channels):\n",
    "    print('recording')\n",
    "    my_rec = sd.rec(samplerate=sr, channels=channels, frames=int(duration*sr))\n",
    "    sd.wait()\n",
    "    sf.write(filename, data=my_rec, samplerate=sr)\n",
    "    print('done recording')"
   ]
  },
  {
   "cell_type": "code",
   "execution_count": 4,
   "metadata": {},
   "outputs": [],
   "source": [
    "q = queue.Queue()\n",
    "def callback(indata, frames, time, status):\n",
    "    \"\"\"This is called (from a separate thread) for each audio block.\"\"\"\n",
    "    if status:\n",
    "        print(status, file=sys.stderr)\n",
    "    q.put(indata.copy())\n",
    "    \n",
    "def recorder( file_name):\n",
    "    try:\n",
    "        os.remove(file_name)\n",
    "    except:\n",
    "        pass\n",
    "    with sf.SoundFile(file_name, mode='x', samplerate=22000,\n",
    "                      channels=1) as file:\n",
    "        with sd.InputStream(samplerate=22000, device=sd.default.device,\n",
    "                            channels=1, callback=callback):\n",
    "            while True:\n",
    "                file.write(q.get())\n",
    "                if( keyboard.is_pressed(\"left\")):\n",
    "                    break\n",
    "    print('done recording')"
   ]
  },
  {
   "cell_type": "code",
   "execution_count": 5,
   "metadata": {},
   "outputs": [
    {
     "name": "stdout",
     "output_type": "stream",
     "text": [
      "Văn bản cần thu âm là : \n",
      "\n",
      "Dịch Covid-19 ập đến, gia đình Hai Thường bỗng oằn mình trong nợ nần.Chỉ 300 ngàn Đồng mỗi tháng, nhưng không cách nào trả..Hai Thường là con đầu lòng trong gia đình người quen của tôi ở miền Trung.Niềm vui đã trọn vẹn với gia đình Hai Thường trong mùa thu 2019, khi họ tìm ra giải pháp để cậu có thể theo học đại học trên thành phố.Mọi chuyện đã rất ổn với chiếc xe máy mua trả góp từ một đại lý trong huyện, phương tiện để Hai Thường chạy xe ôm công nghệ nhằm trang trải một phần chi phí ăn học tại Sài Gòn.Số tiền hơn 300 nghìn Đồng trả góp hàng tháng nằm trong khả năng của cậu..Sở dĩ cha mẹ Hai Thường ở vùng quê đầy gió nóng và cát trắng có thể mua trả góp chiếc xe là nhờ những khoản tiền tiết kiệm khiêm tốn gửi ngân hàng của những người như bà An, vừa nghỉ hưu, đang sống một mình cùng xóm, hay nhiều tỷ Đồng của những người khá giả hơn ở khắp nơi..Không may thay, niềm vui ấy bỏ đi vào phút chót.Mọi chuyện đã hoàn toàn thay đổi kể từ dịp Tết vừa rồi khi dịch Covid-19 bất ngờ ập đến.Hai Thường phải ở lại quê, không thể ra Sài Gòn học tiếp và cũng không có việc gì làm.Chiếc xe máy phủ đầy bụi đứng ở góc nhà.Hơn 300 ngàn Đồng - khoản trả góp hàng tháng cho ngân hàng đã trở thành gánh nặng với gia đình cậu..Khi nền kinh tế ở trạng thái bình thường, việc vay mượn giúp nhiều người có thể cải thiện đời sống và tương lai của mình.Chi phí ăn học của những người như Hai Thường và thu nhập từ tiền lãi gửi tiết kiệm của những người như bà An là từ hàng trăm cuốc xe ôm rong ruổi khắp Sài Gòn.Sự kỳ diệu của tín dụng và các hoạt động kinh tế có thể hình dung một cách đơn giản như vậy..Tuy nhiên, việc vay mượn sẽ tạo ra rắc rối cho các cá nhân và cả nền kinh tế ở những thời điểm hoạt động kinh tế bị ngưng trệ.Người vay không có nguồn thu để trả nợ.Lãi vay trở thành gánh nặng rất lớn, đè lên chất lượng cuộc sống của họ.Nếu cam kết hợp đồng trả góp mà bố mẹ Hai Thường đã ký vẫn phải thực thi trong bối cảnh không có nguồn thu thì đến một lúc nào đó, gia đình nông dân sẽ bị vỡ nợ.Điều này cũng hoàn toàn có thể xảy ra với rất nhiều người đang tham gia vào tổng dư nợ hơn 8,2 triệu tỷ Đồng mà hệ thống ngân hàng Việt Nam cho vay ra nền kinh tế..Cho dù Nhà nước đã có một số chính sách để kéo lãi suất xuống, nhưng lãi suất tiền gửi hiện vẫn ở mức rất cao.Có ngân hàng đang huy động lãi suất tiết kiệm kỳ hạn 6 tháng lên đến 7,5 % mỗi năm.Nếu tình trạng này kéo dài và nền kinh tế vẫn phải trong trạng thái \"ngủ đông\" vì dịch bệnh thì việc vỡ nợ đồng loạt có thể xảy ra và gần như tất cả mọi người trong xã hội đều bị ảnh hưởng trực tiếp hay gián tiếp..Giải pháp lúc này là đồng cam cộng khổ.Tất cả những người trong chuỗi tín dụng như người gửi tiết kiệm, các tổ chức tài chính và người đi vay cùng chia sẻ gánh nặng để có thể đưa lãi suất mà người đi vay cuối cùng phải trả về mức thấp nhất có thể.Để làm được việc này, lãi suất tiết kiệm hợp lý là ở mức người dân vẫn có động cơ gửi tiền tại ngân hàng thay vì cất tiền mặt ở nhà.Thực tế ở Việt Nam, lãi suất tiền gửi ngoại tệ bằng 0 % vẫn có người gửi.Thêm vào đó, ở nhiều nước, lãi suất tiền gửi rất thấp - gần về mức zero - và lạm phát vài ba phần trăm, dân vẫn gửi tiền vào các ngân hàng bình thường.Các tổ chức tài chính có thể cắt giảm tối đa chi phí và không đòi hỏi lợi nhuận trong một thời gian.Đối với phần lãi suất mà người vay vẫn phải trả cho sự vận hành của hệ thống thì Nhà nước có thể dùng một phần ngân sách để hỗ trợ, thông qua các gói kích thích, tín dụng..như đã từng làm và hiện đang triển khai một số..Hiểu một cách đơn giản, trong giai đoạn nhiều hoạt động kinh tế bị đình trệ thì những khoản nợ vay liên quan được chuyển sang cơ chế \"mượn\".Người vay sẽ không phải trả lãi lúc khốn khó và việc trả nợ gốc sẽ được lùi lại cho đến khi các hoạt động kinh tế ấm lên.Với tổng dư nợ hơn 8,2 triệu tỷ Đồng hiện nay, nếu có thể kéo mặt bằng lãi suất giảm khoảng 4 điểm phần trăm thì gánh nặng lãi suất cho cả nền kinh tế sẽ giảm được hơn 5 % giá trị GDP mỗi năm - một mức rất đáng kể khi so sánh với gói giải cứu bằng khoảng 10 % GDP đang được thảo luận và có thể sẽ được thực thi..Cơ chế nêu trên đảm bảo công bằng theo chiều dọc, người có nhiều tiền hay khả năng chi trả cao hơn sẽ chia sẻ gánh nặng lớn hơn.Nếu áp dụng cách thức này, một số người có thể bị ảnh hưởng do lãi tiết kiệm với họ là nguồn thu nhập rất quan trọng.Tuy nhiên, so với những trường hợp như gia đình Hai Thường, họ vẫn đỡ hơn nhiều.Người có tiền gửi tiết kiệm vẫn có thể rút ra để chi dùng..Với cơ chế đó, Nhà nước có thể sử dụng trần lãi suất ở mức rất thấp với chế tài mạnh để các tổ chức tài chính không thể lách dẫn đến cạnh tranh không lành mạnh.Các tổ chức tài chính cũng có cách thức sàng lọc, chế tài để đảm bảo công bằng, tránh bị lợi dụng và gây ra những trục trặc vĩ mô khác.Thêm vào đó, việc thông tin minh bạch và kịp thời sẽ giúp cả xã hội cùng hiểu rằng đây là giải pháp chung lưng đấu cật, một chính sách cần thiết cho \"thời chiến\" để có thể đưa đất nước vượt qua thời khắc khó khăn.Điều này giống như quyết tâm chống dịch mà cả nước đang thực hiện khá tốt và rất đáng tự hào khi so sánh với bên ngoài..Trong bối cảnh đặc biệt, khi cả xã hội đang phải chống chọi với một đối tượng hết sức khó lường thì tại sao chúng ta không thể đồng cam cộng khổ, chia sẻ gánh nặng với nhau? \n",
      "mời bạn đọc câu: \n",
      "\n",
      "Dịch Covid-19 ập đến, gia đình Hai Thường bỗng oằn mình trong nợ nần\n"
     ]
    },
    {
     "name": "stdin",
     "output_type": "stream",
     "text": [
      "ấn enter để bắt đầu ghi âm \n"
     ]
    },
    {
     "name": "stdout",
     "output_type": "stream",
     "text": [
      "done recording\n"
     ]
    },
    {
     "name": "stdin",
     "output_type": "stream",
     "text": [
      "Press enter to continue \n"
     ]
    },
    {
     "name": "stdout",
     "output_type": "stream",
     "text": [
      "mời bạn đọc câu: \n",
      "\n",
      "Chỉ 300 ngàn Đồng mỗi tháng, nhưng không cách nào trả\n"
     ]
    },
    {
     "name": "stdin",
     "output_type": "stream",
     "text": [
      "ấn enter để bắt đầu ghi âm \n"
     ]
    },
    {
     "name": "stdout",
     "output_type": "stream",
     "text": [
      "done recording\n"
     ]
    },
    {
     "name": "stdin",
     "output_type": "stream",
     "text": [
      "Press enter to continue \n"
     ]
    },
    {
     "name": "stdout",
     "output_type": "stream",
     "text": [
      "mời bạn đọc câu: \n",
      "\n",
      "Hai Thường là con đầu lòng trong gia đình người quen của tôi ở miền Trung\n"
     ]
    },
    {
     "name": "stdin",
     "output_type": "stream",
     "text": [
      "ấn enter để bắt đầu ghi âm \n"
     ]
    },
    {
     "name": "stdout",
     "output_type": "stream",
     "text": [
      "done recording\n"
     ]
    },
    {
     "name": "stdin",
     "output_type": "stream",
     "text": [
      "Press enter to continue \n"
     ]
    },
    {
     "name": "stdout",
     "output_type": "stream",
     "text": [
      "mời bạn đọc câu: \n",
      "\n",
      "Niềm vui đã trọn vẹn với gia đình Hai Thường trong mùa thu 2019, khi họ tìm ra giải pháp để cậu có thể theo học đại học trên thành phố\n"
     ]
    },
    {
     "name": "stdin",
     "output_type": "stream",
     "text": [
      "ấn enter để bắt đầu ghi âm \n"
     ]
    },
    {
     "name": "stdout",
     "output_type": "stream",
     "text": [
      "done recording\n"
     ]
    },
    {
     "name": "stdin",
     "output_type": "stream",
     "text": [
      "Press enter to continue \n"
     ]
    },
    {
     "name": "stdout",
     "output_type": "stream",
     "text": [
      "mời bạn đọc câu: \n",
      "\n",
      "Mọi chuyện đã rất ổn với chiếc xe máy mua trả góp từ một đại lý trong huyện, phương tiện để Hai Thường chạy xe ôm công nghệ nhằm trang trải một phần chi phí ăn học tại Sài Gòn\n"
     ]
    },
    {
     "name": "stdin",
     "output_type": "stream",
     "text": [
      "ấn enter để bắt đầu ghi âm \n"
     ]
    },
    {
     "name": "stdout",
     "output_type": "stream",
     "text": [
      "done recording\n"
     ]
    },
    {
     "name": "stdin",
     "output_type": "stream",
     "text": [
      "Press enter to continue \n"
     ]
    },
    {
     "name": "stdout",
     "output_type": "stream",
     "text": [
      "mời bạn đọc câu: \n",
      "\n",
      "Số tiền hơn 300 nghìn Đồng trả góp hàng tháng nằm trong khả năng của cậu\n"
     ]
    },
    {
     "name": "stdin",
     "output_type": "stream",
     "text": [
      "ấn enter để bắt đầu ghi âm \n"
     ]
    },
    {
     "name": "stdout",
     "output_type": "stream",
     "text": [
      "done recording\n"
     ]
    },
    {
     "name": "stdin",
     "output_type": "stream",
     "text": [
      "Press enter to continue \n"
     ]
    },
    {
     "name": "stdout",
     "output_type": "stream",
     "text": [
      "mời bạn đọc câu: \n",
      "\n",
      "Sở dĩ cha mẹ Hai Thường ở vùng quê đầy gió nóng và cát trắng có thể mua trả góp chiếc xe là nhờ những khoản tiền tiết kiệm khiêm tốn gửi ngân hàng của những người như bà An, vừa nghỉ hưu, đang sống một mình cùng xóm, hay nhiều tỷ Đồng của những người khá giả hơn ở khắp nơi\n"
     ]
    },
    {
     "name": "stdin",
     "output_type": "stream",
     "text": [
      "ấn enter để bắt đầu ghi âm \n"
     ]
    },
    {
     "name": "stdout",
     "output_type": "stream",
     "text": [
      "done recording\n"
     ]
    },
    {
     "name": "stdin",
     "output_type": "stream",
     "text": [
      "Press enter to continue \n"
     ]
    },
    {
     "name": "stdout",
     "output_type": "stream",
     "text": [
      "mời bạn đọc câu: \n",
      "\n",
      "Không may thay, niềm vui ấy bỏ đi vào phút chót\n"
     ]
    },
    {
     "name": "stdin",
     "output_type": "stream",
     "text": [
      "ấn enter để bắt đầu ghi âm \n"
     ]
    },
    {
     "name": "stdout",
     "output_type": "stream",
     "text": [
      "done recording\n"
     ]
    },
    {
     "name": "stdin",
     "output_type": "stream",
     "text": [
      "Press enter to continue \n"
     ]
    },
    {
     "name": "stdout",
     "output_type": "stream",
     "text": [
      "mời bạn đọc câu: \n",
      "\n",
      "Mọi chuyện đã hoàn toàn thay đổi kể từ dịp Tết vừa rồi khi dịch Covid-19 bất ngờ ập đến\n"
     ]
    },
    {
     "name": "stdin",
     "output_type": "stream",
     "text": [
      "ấn enter để bắt đầu ghi âm \n"
     ]
    },
    {
     "name": "stdout",
     "output_type": "stream",
     "text": [
      "done recording\n"
     ]
    },
    {
     "name": "stdin",
     "output_type": "stream",
     "text": [
      "Press enter to continue \n"
     ]
    },
    {
     "name": "stdout",
     "output_type": "stream",
     "text": [
      "mời bạn đọc câu: \n",
      "\n",
      "Hai Thường phải ở lại quê, không thể ra Sài Gòn học tiếp và cũng không có việc gì làm\n"
     ]
    },
    {
     "name": "stdin",
     "output_type": "stream",
     "text": [
      "ấn enter để bắt đầu ghi âm \n"
     ]
    },
    {
     "name": "stdout",
     "output_type": "stream",
     "text": [
      "done recording\n"
     ]
    },
    {
     "name": "stdin",
     "output_type": "stream",
     "text": [
      "Press enter to continue \n"
     ]
    },
    {
     "name": "stdout",
     "output_type": "stream",
     "text": [
      "mời bạn đọc câu: \n",
      "\n",
      "Chiếc xe máy phủ đầy bụi đứng ở góc nhà\n"
     ]
    },
    {
     "name": "stdin",
     "output_type": "stream",
     "text": [
      "ấn enter để bắt đầu ghi âm \n"
     ]
    },
    {
     "name": "stdout",
     "output_type": "stream",
     "text": [
      "done recording\n"
     ]
    },
    {
     "name": "stdin",
     "output_type": "stream",
     "text": [
      "Press enter to continue \n"
     ]
    },
    {
     "name": "stdout",
     "output_type": "stream",
     "text": [
      "mời bạn đọc câu: \n",
      "\n",
      "Hơn 300 ngàn Đồng - khoản trả góp hàng tháng cho ngân hàng đã trở thành gánh nặng với gia đình cậu\n"
     ]
    },
    {
     "name": "stdin",
     "output_type": "stream",
     "text": [
      "ấn enter để bắt đầu ghi âm \n"
     ]
    },
    {
     "name": "stdout",
     "output_type": "stream",
     "text": [
      "done recording\n"
     ]
    },
    {
     "name": "stdin",
     "output_type": "stream",
     "text": [
      "Press enter to continue \n"
     ]
    },
    {
     "name": "stdout",
     "output_type": "stream",
     "text": [
      "mời bạn đọc câu: \n",
      "\n",
      "Khi nền kinh tế ở trạng thái bình thường, việc vay mượn giúp nhiều người có thể cải thiện đời sống và tương lai của mình\n"
     ]
    },
    {
     "name": "stdin",
     "output_type": "stream",
     "text": [
      "ấn enter để bắt đầu ghi âm \n"
     ]
    },
    {
     "name": "stdout",
     "output_type": "stream",
     "text": [
      "done recording\n"
     ]
    },
    {
     "name": "stdin",
     "output_type": "stream",
     "text": [
      "Press enter to continue \n"
     ]
    },
    {
     "name": "stdout",
     "output_type": "stream",
     "text": [
      "mời bạn đọc câu: \n",
      "\n",
      "Chi phí ăn học của những người như Hai Thường và thu nhập từ tiền lãi gửi tiết kiệm của những người như bà An là từ hàng trăm cuốc xe ôm rong ruổi khắp Sài Gòn\n"
     ]
    },
    {
     "name": "stdin",
     "output_type": "stream",
     "text": [
      "ấn enter để bắt đầu ghi âm \n"
     ]
    },
    {
     "name": "stdout",
     "output_type": "stream",
     "text": [
      "done recording\n"
     ]
    },
    {
     "name": "stdin",
     "output_type": "stream",
     "text": [
      "Press enter to continue \n"
     ]
    },
    {
     "name": "stdout",
     "output_type": "stream",
     "text": [
      "mời bạn đọc câu: \n",
      "\n",
      "Sự kỳ diệu của tín dụng và các hoạt động kinh tế có thể hình dung một cách đơn giản như vậy\n"
     ]
    },
    {
     "name": "stdin",
     "output_type": "stream",
     "text": [
      "ấn enter để bắt đầu ghi âm \n"
     ]
    },
    {
     "name": "stdout",
     "output_type": "stream",
     "text": [
      "done recording\n"
     ]
    },
    {
     "name": "stdin",
     "output_type": "stream",
     "text": [
      "Press enter to continue \n"
     ]
    },
    {
     "name": "stdout",
     "output_type": "stream",
     "text": [
      "mời bạn đọc câu: \n",
      "\n",
      "Tuy nhiên, việc vay mượn sẽ tạo ra rắc rối cho các cá nhân và cả nền kinh tế ở những thời điểm hoạt động kinh tế bị ngưng trệ\n"
     ]
    },
    {
     "name": "stdin",
     "output_type": "stream",
     "text": [
      "ấn enter để bắt đầu ghi âm \n"
     ]
    },
    {
     "name": "stdout",
     "output_type": "stream",
     "text": [
      "done recording\n"
     ]
    },
    {
     "name": "stdin",
     "output_type": "stream",
     "text": [
      "Press enter to continue \n"
     ]
    },
    {
     "name": "stdout",
     "output_type": "stream",
     "text": [
      "mời bạn đọc câu: \n",
      "\n",
      "Người vay không có nguồn thu để trả nợ\n"
     ]
    },
    {
     "name": "stdin",
     "output_type": "stream",
     "text": [
      "ấn enter để bắt đầu ghi âm \n"
     ]
    },
    {
     "name": "stdout",
     "output_type": "stream",
     "text": [
      "done recording\n"
     ]
    },
    {
     "name": "stdin",
     "output_type": "stream",
     "text": [
      "Press enter to continue \n"
     ]
    },
    {
     "name": "stdout",
     "output_type": "stream",
     "text": [
      "mời bạn đọc câu: \n",
      "\n",
      "Lãi vay trở thành gánh nặng rất lớn, đè lên chất lượng cuộc sống của họ\n"
     ]
    },
    {
     "name": "stdin",
     "output_type": "stream",
     "text": [
      "ấn enter để bắt đầu ghi âm \n"
     ]
    },
    {
     "name": "stdout",
     "output_type": "stream",
     "text": [
      "done recording\n"
     ]
    },
    {
     "name": "stdin",
     "output_type": "stream",
     "text": [
      "Press enter to continue \n"
     ]
    },
    {
     "name": "stdout",
     "output_type": "stream",
     "text": [
      "mời bạn đọc câu: \n",
      "\n",
      "Nếu cam kết hợp đồng trả góp mà bố mẹ Hai Thường đã ký vẫn phải thực thi trong bối cảnh không có nguồn thu thì đến một lúc nào đó, gia đình nông dân sẽ bị vỡ nợ\n"
     ]
    },
    {
     "name": "stdin",
     "output_type": "stream",
     "text": [
      "ấn enter để bắt đầu ghi âm \n"
     ]
    },
    {
     "name": "stdout",
     "output_type": "stream",
     "text": [
      "done recording\n"
     ]
    },
    {
     "name": "stdin",
     "output_type": "stream",
     "text": [
      "Press enter to continue \n"
     ]
    },
    {
     "name": "stdout",
     "output_type": "stream",
     "text": [
      "mời bạn đọc câu: \n",
      "\n",
      "Điều này cũng hoàn toàn có thể xảy ra với rất nhiều người đang tham gia vào tổng dư nợ hơn 8,2 triệu tỷ Đồng mà hệ thống ngân hàng Việt Nam cho vay ra nền kinh tế\n"
     ]
    },
    {
     "name": "stdin",
     "output_type": "stream",
     "text": [
      "ấn enter để bắt đầu ghi âm \n"
     ]
    },
    {
     "name": "stdout",
     "output_type": "stream",
     "text": [
      "done recording\n"
     ]
    },
    {
     "name": "stdin",
     "output_type": "stream",
     "text": [
      "Press enter to continue \n"
     ]
    },
    {
     "name": "stdout",
     "output_type": "stream",
     "text": [
      "mời bạn đọc câu: \n",
      "\n",
      "Cho dù Nhà nước đã có một số chính sách để kéo lãi suất xuống, nhưng lãi suất tiền gửi hiện vẫn ở mức rất cao\n"
     ]
    },
    {
     "name": "stdin",
     "output_type": "stream",
     "text": [
      "ấn enter để bắt đầu ghi âm \n"
     ]
    },
    {
     "name": "stdout",
     "output_type": "stream",
     "text": [
      "done recording\n"
     ]
    },
    {
     "name": "stdin",
     "output_type": "stream",
     "text": [
      "Press enter to continue \n"
     ]
    },
    {
     "name": "stdout",
     "output_type": "stream",
     "text": [
      "mời bạn đọc câu: \n",
      "\n",
      "Có ngân hàng đang huy động lãi suất tiết kiệm kỳ hạn 6 tháng lên đến 7,5 % mỗi năm\n"
     ]
    },
    {
     "name": "stdin",
     "output_type": "stream",
     "text": [
      "ấn enter để bắt đầu ghi âm \n"
     ]
    },
    {
     "name": "stdout",
     "output_type": "stream",
     "text": [
      "done recording\n"
     ]
    },
    {
     "name": "stdin",
     "output_type": "stream",
     "text": [
      "Press enter to continue \n"
     ]
    },
    {
     "name": "stdout",
     "output_type": "stream",
     "text": [
      "mời bạn đọc câu: \n",
      "\n",
      "Nếu tình trạng này kéo dài và nền kinh tế vẫn phải trong trạng thái \"ngủ đông\" vì dịch bệnh thì việc vỡ nợ đồng loạt có thể xảy ra và gần như tất cả mọi người trong xã hội đều bị ảnh hưởng trực tiếp hay gián tiếp\n"
     ]
    },
    {
     "name": "stdin",
     "output_type": "stream",
     "text": [
      "ấn enter để bắt đầu ghi âm \n"
     ]
    },
    {
     "name": "stdout",
     "output_type": "stream",
     "text": [
      "done recording\n"
     ]
    },
    {
     "name": "stdin",
     "output_type": "stream",
     "text": [
      "Press enter to continue \n"
     ]
    },
    {
     "name": "stdout",
     "output_type": "stream",
     "text": [
      "mời bạn đọc câu: \n",
      "\n",
      "Giải pháp lúc này là đồng cam cộng khổ\n"
     ]
    },
    {
     "name": "stdin",
     "output_type": "stream",
     "text": [
      "ấn enter để bắt đầu ghi âm \n"
     ]
    },
    {
     "name": "stdout",
     "output_type": "stream",
     "text": [
      "done recording\n"
     ]
    },
    {
     "name": "stdin",
     "output_type": "stream",
     "text": [
      "Press enter to continue \n"
     ]
    },
    {
     "name": "stdout",
     "output_type": "stream",
     "text": [
      "mời bạn đọc câu: \n",
      "\n",
      "Tất cả những người trong chuỗi tín dụng như người gửi tiết kiệm, các tổ chức tài chính và người đi vay cùng chia sẻ gánh nặng để có thể đưa lãi suất mà người đi vay cuối cùng phải trả về mức thấp nhất có thể\n"
     ]
    },
    {
     "name": "stdin",
     "output_type": "stream",
     "text": [
      "ấn enter để bắt đầu ghi âm \n"
     ]
    },
    {
     "name": "stdout",
     "output_type": "stream",
     "text": [
      "done recording\n"
     ]
    },
    {
     "name": "stdin",
     "output_type": "stream",
     "text": [
      "Press enter to continue \n"
     ]
    },
    {
     "name": "stdout",
     "output_type": "stream",
     "text": [
      "mời bạn đọc câu: \n",
      "\n",
      "Để làm được việc này, lãi suất tiết kiệm hợp lý là ở mức người dân vẫn có động cơ gửi tiền tại ngân hàng thay vì cất tiền mặt ở nhà\n"
     ]
    },
    {
     "name": "stdin",
     "output_type": "stream",
     "text": [
      "ấn enter để bắt đầu ghi âm \n"
     ]
    },
    {
     "name": "stdout",
     "output_type": "stream",
     "text": [
      "done recording\n"
     ]
    },
    {
     "name": "stdin",
     "output_type": "stream",
     "text": [
      "Press enter to continue \n"
     ]
    },
    {
     "name": "stdout",
     "output_type": "stream",
     "text": [
      "mời bạn đọc câu: \n",
      "\n",
      "Thực tế ở Việt Nam, lãi suất tiền gửi ngoại tệ bằng 0 % vẫn có người gửi\n"
     ]
    },
    {
     "name": "stdin",
     "output_type": "stream",
     "text": [
      "ấn enter để bắt đầu ghi âm \n"
     ]
    },
    {
     "name": "stdout",
     "output_type": "stream",
     "text": [
      "done recording\n"
     ]
    },
    {
     "name": "stdin",
     "output_type": "stream",
     "text": [
      "Press enter to continue \n"
     ]
    },
    {
     "name": "stdout",
     "output_type": "stream",
     "text": [
      "mời bạn đọc câu: \n",
      "\n",
      "Thêm vào đó, ở nhiều nước, lãi suất tiền gửi rất thấp - gần về mức zero - và lạm phát vài ba phần trăm, dân vẫn gửi tiền vào các ngân hàng bình thường\n"
     ]
    },
    {
     "name": "stdin",
     "output_type": "stream",
     "text": [
      "ấn enter để bắt đầu ghi âm \n"
     ]
    },
    {
     "name": "stdout",
     "output_type": "stream",
     "text": [
      "done recording\n"
     ]
    },
    {
     "name": "stdin",
     "output_type": "stream",
     "text": [
      "Press enter to continue \n"
     ]
    },
    {
     "name": "stdout",
     "output_type": "stream",
     "text": [
      "mời bạn đọc câu: \n",
      "\n",
      "Các tổ chức tài chính có thể cắt giảm tối đa chi phí và không đòi hỏi lợi nhuận trong một thời gian\n"
     ]
    },
    {
     "name": "stdin",
     "output_type": "stream",
     "text": [
      "ấn enter để bắt đầu ghi âm \n"
     ]
    },
    {
     "name": "stdout",
     "output_type": "stream",
     "text": [
      "done recording\n"
     ]
    },
    {
     "name": "stdin",
     "output_type": "stream",
     "text": [
      "Press enter to continue \n"
     ]
    },
    {
     "name": "stdout",
     "output_type": "stream",
     "text": [
      "mời bạn đọc câu: \n",
      "\n",
      "Đối với phần lãi suất mà người vay vẫn phải trả cho sự vận hành của hệ thống thì Nhà nước có thể dùng một phần ngân sách để hỗ trợ, thông qua các gói kích thích, tín dụng\n"
     ]
    },
    {
     "name": "stdin",
     "output_type": "stream",
     "text": [
      "ấn enter để bắt đầu ghi âm \n"
     ]
    },
    {
     "name": "stdout",
     "output_type": "stream",
     "text": [
      "done recording\n"
     ]
    },
    {
     "name": "stdin",
     "output_type": "stream",
     "text": [
      "Press enter to continue \n"
     ]
    },
    {
     "name": "stdout",
     "output_type": "stream",
     "text": [
      "mời bạn đọc câu: \n",
      "\n",
      "như đã từng làm và hiện đang triển khai một số\n"
     ]
    },
    {
     "name": "stdin",
     "output_type": "stream",
     "text": [
      "ấn enter để bắt đầu ghi âm \n"
     ]
    },
    {
     "name": "stdout",
     "output_type": "stream",
     "text": [
      "done recording\n"
     ]
    },
    {
     "name": "stdin",
     "output_type": "stream",
     "text": [
      "Press enter to continue \n"
     ]
    },
    {
     "name": "stdout",
     "output_type": "stream",
     "text": [
      "mời bạn đọc câu: \n",
      "\n",
      "Hiểu một cách đơn giản, trong giai đoạn nhiều hoạt động kinh tế bị đình trệ thì những khoản nợ vay liên quan được chuyển sang cơ chế \"mượn\"\n"
     ]
    },
    {
     "name": "stdin",
     "output_type": "stream",
     "text": [
      "ấn enter để bắt đầu ghi âm \n"
     ]
    },
    {
     "name": "stdout",
     "output_type": "stream",
     "text": [
      "done recording\n"
     ]
    },
    {
     "name": "stdin",
     "output_type": "stream",
     "text": [
      "Press enter to continue \n"
     ]
    },
    {
     "name": "stdout",
     "output_type": "stream",
     "text": [
      "mời bạn đọc câu: \n",
      "\n",
      "Người vay sẽ không phải trả lãi lúc khốn khó và việc trả nợ gốc sẽ được lùi lại cho đến khi các hoạt động kinh tế ấm lên\n"
     ]
    },
    {
     "name": "stdin",
     "output_type": "stream",
     "text": [
      "ấn enter để bắt đầu ghi âm \n"
     ]
    },
    {
     "name": "stdout",
     "output_type": "stream",
     "text": [
      "done recording\n"
     ]
    },
    {
     "name": "stdin",
     "output_type": "stream",
     "text": [
      "Press enter to continue \n"
     ]
    },
    {
     "name": "stdout",
     "output_type": "stream",
     "text": [
      "mời bạn đọc câu: \n",
      "\n",
      "Với tổng dư nợ hơn 8,2 triệu tỷ Đồng hiện nay, nếu có thể kéo mặt bằng lãi suất giảm khoảng 4 điểm phần trăm thì gánh nặng lãi suất cho cả nền kinh tế sẽ giảm được hơn 5 % giá trị GDP mỗi năm - một mức rất đáng kể khi so sánh với gói giải cứu bằng khoảng 10 % GDP đang được thảo luận và có thể sẽ được thực thi\n"
     ]
    },
    {
     "name": "stdin",
     "output_type": "stream",
     "text": [
      "ấn enter để bắt đầu ghi âm \n"
     ]
    },
    {
     "name": "stdout",
     "output_type": "stream",
     "text": [
      "done recording\n"
     ]
    },
    {
     "name": "stdin",
     "output_type": "stream",
     "text": [
      "Press enter to continue \n"
     ]
    },
    {
     "name": "stdout",
     "output_type": "stream",
     "text": [
      "mời bạn đọc câu: \n",
      "\n",
      "Cơ chế nêu trên đảm bảo công bằng theo chiều dọc, người có nhiều tiền hay khả năng chi trả cao hơn sẽ chia sẻ gánh nặng lớn hơn\n"
     ]
    },
    {
     "name": "stdin",
     "output_type": "stream",
     "text": [
      "ấn enter để bắt đầu ghi âm \n"
     ]
    },
    {
     "name": "stdout",
     "output_type": "stream",
     "text": [
      "done recording\n"
     ]
    },
    {
     "name": "stdin",
     "output_type": "stream",
     "text": [
      "Press enter to continue \n"
     ]
    },
    {
     "name": "stdout",
     "output_type": "stream",
     "text": [
      "mời bạn đọc câu: \n",
      "\n",
      "Nếu áp dụng cách thức này, một số người có thể bị ảnh hưởng do lãi tiết kiệm với họ là nguồn thu nhập rất quan trọng\n"
     ]
    },
    {
     "name": "stdin",
     "output_type": "stream",
     "text": [
      "ấn enter để bắt đầu ghi âm \n"
     ]
    },
    {
     "name": "stdout",
     "output_type": "stream",
     "text": [
      "done recording\n"
     ]
    },
    {
     "name": "stdin",
     "output_type": "stream",
     "text": [
      "Press enter to continue \n"
     ]
    },
    {
     "name": "stdout",
     "output_type": "stream",
     "text": [
      "mời bạn đọc câu: \n",
      "\n",
      "Tuy nhiên, so với những trường hợp như gia đình Hai Thường, họ vẫn đỡ hơn nhiều\n"
     ]
    },
    {
     "name": "stdin",
     "output_type": "stream",
     "text": [
      "ấn enter để bắt đầu ghi âm \n"
     ]
    },
    {
     "name": "stdout",
     "output_type": "stream",
     "text": [
      "done recording\n"
     ]
    },
    {
     "name": "stdin",
     "output_type": "stream",
     "text": [
      "Press enter to continue \n"
     ]
    },
    {
     "name": "stdout",
     "output_type": "stream",
     "text": [
      "mời bạn đọc câu: \n",
      "\n",
      "Người có tiền gửi tiết kiệm vẫn có thể rút ra để chi dùng\n"
     ]
    },
    {
     "name": "stdin",
     "output_type": "stream",
     "text": [
      "ấn enter để bắt đầu ghi âm \n"
     ]
    },
    {
     "name": "stdout",
     "output_type": "stream",
     "text": [
      "done recording\n"
     ]
    },
    {
     "name": "stdin",
     "output_type": "stream",
     "text": [
      "Press enter to continue \n"
     ]
    },
    {
     "name": "stdout",
     "output_type": "stream",
     "text": [
      "mời bạn đọc câu: \n",
      "\n",
      "Với cơ chế đó, Nhà nước có thể sử dụng trần lãi suất ở mức rất thấp với chế tài mạnh để các tổ chức tài chính không thể lách dẫn đến cạnh tranh không lành mạnh\n"
     ]
    },
    {
     "name": "stdin",
     "output_type": "stream",
     "text": [
      "ấn enter để bắt đầu ghi âm \n"
     ]
    },
    {
     "name": "stdout",
     "output_type": "stream",
     "text": [
      "done recording\n"
     ]
    },
    {
     "name": "stdin",
     "output_type": "stream",
     "text": [
      "Press enter to continue \n"
     ]
    },
    {
     "name": "stdout",
     "output_type": "stream",
     "text": [
      "mời bạn đọc câu: \n",
      "\n",
      "Các tổ chức tài chính cũng có cách thức sàng lọc, chế tài để đảm bảo công bằng, tránh bị lợi dụng và gây ra những trục trặc vĩ mô khác\n"
     ]
    },
    {
     "name": "stdin",
     "output_type": "stream",
     "text": [
      "ấn enter để bắt đầu ghi âm \n"
     ]
    },
    {
     "name": "stdout",
     "output_type": "stream",
     "text": [
      "done recording\n"
     ]
    },
    {
     "name": "stdin",
     "output_type": "stream",
     "text": [
      "Press enter to continue \n"
     ]
    },
    {
     "name": "stdout",
     "output_type": "stream",
     "text": [
      "mời bạn đọc câu: \n",
      "\n",
      "Thêm vào đó, việc thông tin minh bạch và kịp thời sẽ giúp cả xã hội cùng hiểu rằng đây là giải pháp chung lưng đấu cật, một chính sách cần thiết cho \"thời chiến\" để có thể đưa đất nước vượt qua thời khắc khó khăn\n"
     ]
    },
    {
     "name": "stdin",
     "output_type": "stream",
     "text": [
      "ấn enter để bắt đầu ghi âm \n"
     ]
    },
    {
     "name": "stdout",
     "output_type": "stream",
     "text": [
      "done recording\n"
     ]
    },
    {
     "name": "stdin",
     "output_type": "stream",
     "text": [
      "Press enter to continue \n"
     ]
    },
    {
     "name": "stdout",
     "output_type": "stream",
     "text": [
      "mời bạn đọc câu: \n",
      "\n",
      "Điều này giống như quyết tâm chống dịch mà cả nước đang thực hiện khá tốt và rất đáng tự hào khi so sánh với bên ngoài\n"
     ]
    },
    {
     "name": "stdin",
     "output_type": "stream",
     "text": [
      "ấn enter để bắt đầu ghi âm \n"
     ]
    },
    {
     "name": "stdout",
     "output_type": "stream",
     "text": [
      "done recording\n"
     ]
    },
    {
     "name": "stdin",
     "output_type": "stream",
     "text": [
      "Press enter to continue \n"
     ]
    },
    {
     "name": "stdout",
     "output_type": "stream",
     "text": [
      "mời bạn đọc câu: \n",
      "\n",
      "Trong bối cảnh đặc biệt, khi cả xã hội đang phải chống chọi với một đối tượng hết sức khó lường thì tại sao chúng ta không thể đồng cam cộng khổ, chia sẻ gánh nặng với nhau? \n"
     ]
    },
    {
     "name": "stdin",
     "output_type": "stream",
     "text": [
      "ấn enter để bắt đầu ghi âm \n"
     ]
    },
    {
     "name": "stdout",
     "output_type": "stream",
     "text": [
      "done recording\n"
     ]
    },
    {
     "name": "stdin",
     "output_type": "stream",
     "text": [
      "Press enter to continue \n"
     ]
    },
    {
     "name": "stdout",
     "output_type": "stream",
     "text": [
      "bạn đã ghi âm xong\n"
     ]
    }
   ],
   "source": [
    "file =\"Data/Gocnhin.txt\"\n",
    "def Record_file(file, folder, filetext):\n",
    "    with open(file, encoding=\"utf8\" ) as f:\n",
    "        content = f.read()\n",
    "        content = content.replace(\"  \", \" \")\n",
    "        content = content.replace(\". \", \".\")\n",
    "        content = content.replace(\"\\n\", \".\")\n",
    "        content = content.replace(\"..\", \".\")\n",
    "        print(\"Văn bản cần thu âm là : \\n\")\n",
    "        print(content)\n",
    "        content = content.split(\".\")\n",
    "        f.close()\n",
    "    i = 1\n",
    "    for sentence in content:\n",
    "        if sentence == \"\":\n",
    "            continue\n",
    "        print(\"mời bạn đọc câu: \\n\")\n",
    "        print(sentence)\n",
    "        try:\n",
    "            input(\"ấn enter để bắt đầu ghi âm\")\n",
    "        except SyntaxError:\n",
    "            pass\n",
    "        temp = sentence.split()\n",
    "        duration = int(len(temp))\n",
    "        name = \"sentence\" + str(i)\n",
    "        filename = folder +\"/\" + name +\".wav\"\n",
    "        recorder(filename)\n",
    "        #sync_record(filename, duration , 22050, 1)\n",
    "        file = open(filetext, \"a+\",encoding='utf8')\n",
    "        file.write(name + '\\n')\n",
    "        file.write(sentence + '\\n')\n",
    "        file.close()\n",
    "        i = i + 1\n",
    "        try:\n",
    "            input(\"Press enter to continue\")\n",
    "        except SyntaxError:\n",
    "            pass\n",
    "        \n",
    "    print(\"bạn đã ghi âm xong\")\n",
    "folder =\"GocNhin\"\n",
    "Newpaper = \"https://vnexpress.net/goc-nhin/dong-cam-cong-kho-4078773.html\"\n",
    "filetext = folder + \"/\" + folder + \".txt\"\n",
    "f=open(filetext, \"w+\",encoding='utf8')\n",
    "f.write(Newpaper + \"\\n\")\n",
    "f.close()\n",
    "Record_file(file,folder,filetext)\n",
    "        \n",
    "        \n",
    "        \n"
   ]
  },
  {
   "cell_type": "code",
   "execution_count": null,
   "metadata": {},
   "outputs": [],
   "source": []
  }
 ],
 "metadata": {
  "kernelspec": {
   "display_name": "Python 3",
   "language": "python",
   "name": "python3"
  },
  "language_info": {
   "codemirror_mode": {
    "name": "ipython",
    "version": 3
   },
   "file_extension": ".py",
   "mimetype": "text/x-python",
   "name": "python",
   "nbconvert_exporter": "python",
   "pygments_lexer": "ipython3",
   "version": "3.7.7"
  }
 },
 "nbformat": 4,
 "nbformat_minor": 4
}
