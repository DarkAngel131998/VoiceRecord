{
 "cells": [
  {
   "cell_type": "code",
   "execution_count": 1,
   "metadata": {},
   "outputs": [
    {
     "data": {
      "text/plain": [
       "  0 Microsoft Sound Mapper - Input, MME (2 in, 0 out)\n",
       "> 1 Microphone (2- Realtek High Def, MME (2 in, 0 out)\n",
       "  2 Microsoft Sound Mapper - Output, MME (0 in, 2 out)\n",
       "< 3 Speakers (2- Realtek High Defin, MME (0 in, 2 out)"
      ]
     },
     "execution_count": 1,
     "metadata": {},
     "output_type": "execute_result"
    }
   ],
   "source": [
    "import soundfile as sf\n",
    "import sounddevice as sd\n",
    "\n",
    "misc = sd.query_devices()\n",
    "misc"
   ]
  },
  {
   "cell_type": "code",
   "execution_count": 2,
   "metadata": {},
   "outputs": [
    {
     "name": "stdout",
     "output_type": "stream",
     "text": [
      "{'name': 'Microphone (2- Realtek High Def', 'hostapi': 0, 'max_input_channels': 2, 'max_output_channels': 0, 'default_low_input_latency': 0.09, 'default_low_output_latency': 0.09, 'default_high_input_latency': 0.18, 'default_high_output_latency': 0.18, 'default_samplerate': 44100.0}\n"
     ]
    }
   ],
   "source": [
    "sd.default.device = 1\n",
    "print(misc[1])"
   ]
  },
  {
   "cell_type": "code",
   "execution_count": 3,
   "metadata": {},
   "outputs": [],
   "source": [
    "def sync_record(filename, duration, sr, channels):\n",
    "    print('recording')\n",
    "    my_rec = sd.rec(samplerate=sr, channels=channels, frames=int(duration*sr))\n",
    "    sd.wait()\n",
    "    sf.write(filename, data=my_rec, samplerate=sr)\n",
    "    print('done recording')"
   ]
  },
  {
   "cell_type": "code",
   "execution_count": 4,
   "metadata": {},
   "outputs": [
    {
     "name": "stdout",
     "output_type": "stream",
     "text": [
      "Văn bản cần thu âm là : \n",
      "\n",
      "abcxyz hahaha ahahaha ahaha aha ah ah ah ah ah hah. lo lo lo lo lo. hu hu hu hu hu\n",
      "mời bạn đọc câu: \n",
      "\n",
      "abcxyz hahaha ahahaha ahaha aha ah ah ah ah ah hah\n"
     ]
    },
    {
     "name": "stdin",
     "output_type": "stream",
     "text": [
      "ấn enter để bắt đầu ghi âm \n"
     ]
    },
    {
     "name": "stdout",
     "output_type": "stream",
     "text": [
      "recording\n",
      "done recording\n"
     ]
    },
    {
     "name": "stdin",
     "output_type": "stream",
     "text": [
      "Press enter to continue \n"
     ]
    },
    {
     "name": "stdout",
     "output_type": "stream",
     "text": [
      "mời bạn đọc câu: \n",
      "\n",
      "lo lo lo lo lo\n"
     ]
    },
    {
     "name": "stdin",
     "output_type": "stream",
     "text": [
      "ấn enter để bắt đầu ghi âm \n"
     ]
    },
    {
     "name": "stdout",
     "output_type": "stream",
     "text": [
      "recording\n",
      "done recording\n"
     ]
    },
    {
     "name": "stdin",
     "output_type": "stream",
     "text": [
      "Press enter to continue \n"
     ]
    },
    {
     "name": "stdout",
     "output_type": "stream",
     "text": [
      "mời bạn đọc câu: \n",
      "\n",
      "hu hu hu hu hu\n"
     ]
    },
    {
     "name": "stdin",
     "output_type": "stream",
     "text": [
      "ấn enter để bắt đầu ghi âm \n"
     ]
    },
    {
     "name": "stdout",
     "output_type": "stream",
     "text": [
      "recording\n",
      "done recording\n"
     ]
    },
    {
     "name": "stdin",
     "output_type": "stream",
     "text": [
      "Press enter to continue \n"
     ]
    },
    {
     "name": "stdout",
     "output_type": "stream",
     "text": [
      "bạn đã ghi âm xong\n"
     ]
    }
   ],
   "source": [
    "file =\"Data/Test.txt\"\n",
    "def Record_file(file, folder, filetext):\n",
    "    with open(file, encoding=\"utf8\" ) as f:\n",
    "        content = f.read()\n",
    "        print(\"Văn bản cần thu âm là : \\n\")\n",
    "        print(content)\n",
    "        content = content.split(\". \")\n",
    "        f.close()\n",
    "    i = 1\n",
    "    for sentence in content:\n",
    "        print(\"mời bạn đọc câu: \\n\")\n",
    "        print(sentence)\n",
    "        try:\n",
    "            input(\"ấn enter để bắt đầu ghi âm\")\n",
    "        except SyntaxError:\n",
    "            pass\n",
    "        temp = sentence.split()\n",
    "        duration = int(len(temp))\n",
    "        name = \"sentence\" + str(i)\n",
    "        filename = folder +\"/\" + name +\".wav\"\n",
    "        sync_record(filename, duration , 22050, 1)\n",
    "        file = open(filetext, \"a+\")\n",
    "        file.write(name + '\\n')\n",
    "        file.write(sentence + '\\n')\n",
    "        file.close()\n",
    "        i = i + 1\n",
    "        try:\n",
    "            input(\"Press enter to continue\")\n",
    "        except SyntaxError:\n",
    "            pass\n",
    "        \n",
    "    print(\"bạn đã ghi âm xong\")\n",
    "folder =\"Test\"\n",
    "Newpaper = \"https://vnexpress.net/\"\n",
    "filetext = folder + \"/\" + folder + \".txt\"\n",
    "f=open(filetext, \"w+\")\n",
    "f.write(Newpaper + \"\\n\")\n",
    "f.close()\n",
    "Record_file(file,folder,filetext)\n",
    "        \n",
    "        \n",
    "        \n"
   ]
  },
  {
   "cell_type": "code",
   "execution_count": null,
   "metadata": {},
   "outputs": [],
   "source": []
  }
 ],
 "metadata": {
  "kernelspec": {
   "display_name": "Python 3",
   "language": "python",
   "name": "python3"
  },
  "language_info": {
   "codemirror_mode": {
    "name": "ipython",
    "version": 3
   },
   "file_extension": ".py",
   "mimetype": "text/x-python",
   "name": "python",
   "nbconvert_exporter": "python",
   "pygments_lexer": "ipython3",
   "version": "3.7.7"
  }
 },
 "nbformat": 4,
 "nbformat_minor": 4
}
